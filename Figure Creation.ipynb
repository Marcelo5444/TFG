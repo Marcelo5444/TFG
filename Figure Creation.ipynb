{
 "cells": [
  {
   "cell_type": "code",
   "execution_count": 1,
   "metadata": {},
   "outputs": [],
   "source": [
    "import gc\n",
    "import os\n",
    "import random\n",
    "import time\n",
    "import warnings\n",
    "warnings.simplefilter(\"ignore\")\n",
    "import os\n",
    "#import pdb\n",
    "#import zipfile\n",
    "#import pydicom\n",
    "from albumentations import *\n",
    "from albumentations.pytorch import ToTensor\n",
    "import cv2\n",
    "from matplotlib import pyplot as plt\n",
    "import numpy as np\n",
    "import pandas as pd\n",
    "import segmentation_models_pytorch as smp\n",
    "from sklearn.model_selection import KFold\n",
    "import tifffile as tiff\n",
    "import torch\n",
    "import torch.backends.cudnn as cudnn\n",
    "import torch.nn as nn\n",
    "from torch.nn import functional as F\n",
    "import torch.optim as optim\n",
    "from torch.optim.lr_scheduler import ReduceLROnPlateau\n",
    "from torch.utils.data import DataLoader, Dataset, sampler\n",
    "from tqdm import tqdm_notebook as tqdm\n",
    "import segmentation_models_pytorch\n",
    "import matplotlib.pyplot as plt\n",
    "torch.backends.cudnn.benchmark=True"
   ]
  },
  {
   "cell_type": "code",
   "execution_count": 2,
   "metadata": {},
   "outputs": [],
   "source": [
    "def set_seed(seed=2**3):\n",
    "    torch.manual_seed(seed)\n",
    "    torch.cuda.manual_seed(seed)\n",
    "    np.random.seed(seed)\n",
    "    random.seed(seed)\n",
    "    torch.backends.cudnn.deterministic = True\n",
    "#set_seed(121)"
   ]
  },
  {
   "cell_type": "code",
   "execution_count": 3,
   "metadata": {},
   "outputs": [],
   "source": [
    "fold = 0\n",
    "nfolds = 5\n",
    "reduce = 4\n",
    "sz = 256\n",
    "\n",
    "BATCH_SIZE = 2\n",
    "DEVICE = ('cuda' if torch.cuda.is_available() else 'cpu')\n",
    "NUM_WORKERS = 16\n",
    "SEED = 2020\n",
    "TH = 0.39  #threshold for positive predictions\n",
    "\n",
    "DATA = '/home/mlrig/Documents/kaggle/Hubmap/test/'\n",
    "LABELS = '/home/mlrig/Documents/kaggle/Hubmap/train.csv'\n",
    "MASKS = '/home/mlrig/Documents/TFG/carla-simulator/out_seg_city/'\n",
    "TRAIN = '/home/mlrig/Documents/TFG/carla-simulator/rgb/'\n"
   ]
  },
  {
   "cell_type": "code",
   "execution_count": 4,
   "metadata": {},
   "outputs": [],
   "source": [
    "df = pd.DataFrame(os.listdir(TRAIN),columns=[\"id\"])\n",
    "images = []\n",
    "for file in os.listdir(\"/home/mlrig/Documents/kaggle/Hubmap/train\"):\n",
    "    if file.endswith(\".tiff\"):\n",
    "            images.append(file.split(\".\")[0])"
   ]
  },
  {
   "cell_type": "code",
   "execution_count": 5,
   "metadata": {},
   "outputs": [],
   "source": [
    "mean = np.array([0.65459856,0.48386562,0.69428385])\n",
    "std = np.array([0.15167958,0.23584107,0.13146145])\n",
    "\n",
    "def img2tensor(img,dtype:np.dtype=np.float32):\n",
    "    if img.ndim==2 : img = np.expand_dims(img,2)\n",
    "    img = np.transpose(img,(2,0,1))\n",
    "    return torch.from_numpy(img.astype(dtype, copy=False))\n",
    "\n",
    "class HuBMAPDataset(Dataset):\n",
    "    def __init__(self,df,classes,classes_dict,tfms):\n",
    "        self.df = df\n",
    "        self.tfms = tfms\n",
    "        self.classes = classes\n",
    "        self.classes_dict = classes_dict\n",
    "        \n",
    "    def __len__(self):\n",
    "        return len(self.df)\n",
    "    def modify_label(self,label,classes):\n",
    "        for i in range(label.shape[0]):\n",
    "            for j in range(label.shape[1]):\n",
    "                if not (label[i,j] in classes):\n",
    "                        label[i,j] = len(self.classes)-1\n",
    "                else:      \n",
    "                    label[i,j] = self.classes_dict[label[i,j]]\n",
    "\n",
    "        return label            \n",
    "    \n",
    "    def __getitem__(self, idx):\n",
    "        fname = self.df[idx]\n",
    "        img = cv2.cvtColor(cv2.imread(os.path.join(TRAIN,fname)),cv2.COLOR_BGR2RGB)\n",
    "        mask = cv2.imread(os.path.join(MASKS,fname),cv2.COLOR_BGR2RGB)\n",
    "        #mask = np.sum(mask,axis=2)\n",
    "        #mask = self.modify_label(mask,classes)\n",
    "        if self.tfms is not None:\n",
    "            augmented = self.tfms(image=img,mask=mask)\n",
    "            #mask = np.sum(img,axis=2)\n",
    "            \n",
    "            img,mask = augmented['image'],augmented['mask']\n",
    "           # print(torch.nn.functional.one_hot(img2tensor(mask).long().squeeze(0)))\n",
    "        return img2tensor(img),torch.nn.functional.one_hot(img2tensor(mask).long().squeeze(0),num_classes=len(self.classes)).permute(-1,0,1).float(),fname"
   ]
  },
  {
   "cell_type": "code",
   "execution_count": 6,
   "metadata": {},
   "outputs": [],
   "source": [
    "def get_UnetPlusPlus():\n",
    "    model =  smp.Unet(\n",
    "                 encoder_name='se_resnet50',\n",
    "                 encoder_weights='imagenet',\n",
    "                 in_channels=3,\n",
    "                 classes=len(classes))\n",
    "    return model\n",
    "def get_aug(p=1.0):\n",
    "    return Compose([\n",
    "        Resize(512,512),\n",
    "    ])"
   ]
  },
  {
   "cell_type": "code",
   "execution_count": 7,
   "metadata": {},
   "outputs": [
    {
     "data": {
      "text/plain": [
       "<All keys matched successfully>"
      ]
     },
     "execution_count": 7,
     "metadata": {},
     "output_type": "execute_result"
    }
   ],
   "source": [
    "classes = [142,162,-1]\n",
    "classes_dict = {}\n",
    "classes_dict[142] = 0\n",
    "classes_dict[162] = 1\n",
    "ds_t = HuBMAPDataset(df[\"id\"],classes,classes_dict,get_aug())\n",
    "ds_v = HuBMAPDataset(df[\"id\"],classes,classes_dict,get_aug())\n",
    "dataloader_t = torch.utils.data.DataLoader(ds_t,batch_size=1, shuffle=True,num_workers=NUM_WORKERS)\n",
    "dataloader_v = torch.utils.data.DataLoader(ds_t,batch_size=1, shuffle=True,num_workers=NUM_WORKERS)\n",
    "sigmoid = torch.nn.Sigmoid()\n",
    "model = get_UnetPlusPlus().to(DEVICE)\n",
    "model.load_state_dict(torch.load(\"FPN-0-model_0.85.pth\"))"
   ]
  },
  {
   "cell_type": "code",
   "execution_count": 8,
   "metadata": {},
   "outputs": [],
   "source": [
    "dataiter = iter(dataloader_t)\n",
    "image,labels,fname = dataiter.next()\n",
    "image = image.to(DEVICE)\n",
    "output = model(image)\n",
    "output = sigmoid(output)"
   ]
  },
  {
   "cell_type": "code",
   "execution_count": 9,
   "metadata": {},
   "outputs": [
    {
     "name": "stdout",
     "output_type": "stream",
     "text": [
      "('75559.png',)\n"
     ]
    }
   ],
   "source": [
    "print(fname)"
   ]
  },
  {
   "cell_type": "code",
   "execution_count": 10,
   "metadata": {},
   "outputs": [],
   "source": [
    "output = output > 0.5"
   ]
  },
  {
   "cell_type": "code",
   "execution_count": 11,
   "metadata": {},
   "outputs": [
    {
     "name": "stderr",
     "output_type": "stream",
     "text": [
      "Clipping input data to the valid range for imshow with RGB data ([0..1] for floats or [0..255] for integers).\n"
     ]
    },
    {
     "data": {
      "text/plain": [
       "<matplotlib.image.AxesImage at 0x7f56ae928650>"
      ]
     },
     "execution_count": 11,
     "metadata": {},
     "output_type": "execute_result"
    },
    {
     "data": {
      "image/png": "[encoded data removed]",
      "text/plain": [
       "<Figure size 432x288 with 1 Axes>"
      ]
     },
     "metadata": {
      "needs_background": "light"
     },
     "output_type": "display_data"
    }
   ],
   "source": [
    "plt.imshow(image.cpu().squeeze().permute(1, 2, 0).numpy()*255)"
   ]
  },
  {
   "cell_type": "code",
   "execution_count": 12,
   "metadata": {},
   "outputs": [
    {
     "data": {
      "text/plain": [
       "<matplotlib.image.AxesImage at 0x7f56ae884ed0>"
      ]
     },
     "execution_count": 12,
     "metadata": {},
     "output_type": "execute_result"
    },
    {
     "data": {
      "image/png": "[encoded data removed]",
      "text/plain": [
       "<Figure size 432x288 with 1 Axes>"
      ]
     },
     "metadata": {
      "needs_background": "light"
     },
     "output_type": "display_data"
    }
   ],
   "source": [
    "plt.imshow(output.cpu().squeeze().permute(1, 2, 0).numpy()[:,:,0])"
   ]
  },
  {
   "cell_type": "code",
   "execution_count": 13,
   "metadata": {},
   "outputs": [
    {
     "data": {
      "text/plain": [
       "<matplotlib.image.AxesImage at 0x7f55f9674d10>"
      ]
     },
     "execution_count": 13,
     "metadata": {},
     "output_type": "execute_result"
    },
    {
     "data": {
      "image/png": "[encoded data removed]",
      "text/plain": [
       "<Figure size 432x288 with 1 Axes>"
      ]
     },
     "metadata": {
      "needs_background": "light"
     },
     "output_type": "display_data"
    }
   ],
   "source": [
    "plt.imshow(output.cpu().squeeze().permute(1, 2, 0).numpy()[:,:,1])"
   ]
  },
  {
   "cell_type": "code",
   "execution_count": 14,
   "metadata": {},
   "outputs": [
    {
     "data": {
      "text/plain": [
       "<matplotlib.image.AxesImage at 0x7f55f8067650>"
      ]
     },
     "execution_count": 14,
     "metadata": {},
     "output_type": "execute_result"
    },
    {
     "data": {
      "image/png": "[encoded data removed]",
      "text/plain": [
       "<Figure size 432x288 with 1 Axes>"
      ]
     },
     "metadata": {
      "needs_background": "light"
     },
     "output_type": "display_data"
    }
   ],
   "source": [
    "plt.imshow(output.cpu().squeeze().permute(1, 2, 0).numpy()[:,:,2])\n",
    "\n"
   ]
  },
  {
   "cell_type": "code",
   "execution_count": 15,
   "metadata": {},
   "outputs": [
    {
     "data": {
      "text/plain": [
       "(512, 512)"
      ]
     },
     "execution_count": 15,
     "metadata": {},
     "output_type": "execute_result"
    }
   ],
   "source": [
    "output.cpu().squeeze().permute(1, 2, 0).numpy()[:,:,0].shape"
   ]
  },
  {
   "cell_type": "code",
   "execution_count": null,
   "metadata": {},
   "outputs": [],
   "source": []
  }
 ],
 "metadata": {
  "kernelspec": {
   "display_name": "Python 3.7.4 64-bit ('base': conda)",
   "language": "python",
   "name": "python37464bitbasecondada1e1fcdec9b4ccda3d5fac9c9ef4fcd"
  },
  "language_info": {
   "codemirror_mode": {
    "name": "ipython",
    "version": 3
   },
   "file_extension": ".py",
   "mimetype": "text/x-python",
   "name": "python",
   "nbconvert_exporter": "python",
   "pygments_lexer": "ipython3",
   "version": "3.7.4"
  }
 },
 "nbformat": 4,
 "nbformat_minor": 4
}
